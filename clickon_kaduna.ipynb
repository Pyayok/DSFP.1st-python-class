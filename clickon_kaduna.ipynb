{
 "cells": [
  {
   "cell_type": "code",
   "execution_count": 1,
   "id": "aff611ad",
   "metadata": {},
   "outputs": [
    {
     "name": "stdout",
     "output_type": "stream",
     "text": [
      "my name is Aisha\n"
     ]
    }
   ],
   "source": [
    "print(\"my name is Aisha\")"
   ]
  },
  {
   "cell_type": "markdown",
   "id": "d59f9e5a",
   "metadata": {},
   "source": [
    "2 + 2   #string operation"
   ]
  },
  {
   "cell_type": "code",
   "execution_count": 2,
   "id": "a49371ac",
   "metadata": {},
   "outputs": [
    {
     "data": {
      "text/plain": [
       "4"
      ]
     },
     "execution_count": 2,
     "metadata": {},
     "output_type": "execute_result"
    }
   ],
   "source": [
    "2 + 2"
   ]
  },
  {
   "cell_type": "code",
   "execution_count": 3,
   "id": "cffa23d8",
   "metadata": {},
   "outputs": [
    {
     "data": {
      "text/plain": [
       "'22'"
      ]
     },
     "execution_count": 3,
     "metadata": {},
     "output_type": "execute_result"
    }
   ],
   "source": [
    "\"2\" + \"2\""
   ]
  },
  {
   "cell_type": "code",
   "execution_count": 4,
   "id": "ec26ad6f",
   "metadata": {},
   "outputs": [
    {
     "name": "stdout",
     "output_type": "stream",
     "text": [
      "I am a data scientist\n"
     ]
    }
   ],
   "source": [
    "print(\"I am a data scientist\")"
   ]
  },
  {
   "cell_type": "markdown",
   "id": "8d3bc9b1",
   "metadata": {},
   "source": [
    "# first class in python"
   ]
  },
  {
   "cell_type": "code",
   "execution_count": 5,
   "id": "af059c72",
   "metadata": {},
   "outputs": [
    {
     "name": "stdout",
     "output_type": "stream",
     "text": [
      "3.11.5 | packaged by Anaconda, Inc. | (main, Sep 11 2023, 13:26:23) [MSC v.1916 64 bit (AMD64)]\n"
     ]
    }
   ],
   "source": [
    "import sys\n",
    "print(sys.version)"
   ]
  },
  {
   "cell_type": "code",
   "execution_count": 6,
   "id": "97f93a04",
   "metadata": {},
   "outputs": [
    {
     "ename": "SyntaxError",
     "evalue": "invalid syntax. Perhaps you forgot a comma? (2497053111.py, line 1)",
     "output_type": "error",
     "traceback": [
      "\u001b[1;36m  Cell \u001b[1;32mIn[6], line 1\u001b[1;36m\u001b[0m\n\u001b[1;33m    print(hello world)\u001b[0m\n\u001b[1;37m          ^\u001b[0m\n\u001b[1;31mSyntaxError\u001b[0m\u001b[1;31m:\u001b[0m invalid syntax. Perhaps you forgot a comma?\n"
     ]
    }
   ],
   "source": [
    "print(hello world)"
   ]
  },
  {
   "cell_type": "code",
   "execution_count": null,
   "id": "cf5a0cb4",
   "metadata": {},
   "outputs": [],
   "source": [
    "print(\"hello world\")"
   ]
  },
  {
   "cell_type": "markdown",
   "id": "7a5160a6",
   "metadata": {},
   "source": [
    "#to correct and error"
   ]
  },
  {
   "cell_type": "code",
   "execution_count": null,
   "id": "7ea6bef9",
   "metadata": {},
   "outputs": [],
   "source": [
    "def (hello world)\n"
   ]
  },
  {
   "cell_type": "markdown",
   "id": "7b581d77",
   "metadata": {},
   "source": [
    "TYPES OF OBJECT"
   ]
  },
  {
   "cell_type": "code",
   "execution_count": null,
   "id": "9e73a053",
   "metadata": {},
   "outputs": [],
   "source": [
    "# Integer\n",
    "\"ab\". upper()"
   ]
  },
  {
   "cell_type": "markdown",
   "id": "d3aad76a",
   "metadata": {},
   "source": [
    "typecasting"
   ]
  },
  {
   "cell_type": "code",
   "execution_count": null,
   "id": "10520cbd",
   "metadata": {},
   "outputs": [],
   "source": [
    "#convert a string to an int\n",
    "int (5)"
   ]
  },
  {
   "cell_type": "code",
   "execution_count": null,
   "id": "c09f7ce9",
   "metadata": {},
   "outputs": [],
   "source": [
    "#convert a string to an int\n",
    "int(5.6 )"
   ]
  },
  {
   "cell_type": "code",
   "execution_count": null,
   "id": "b93b711b",
   "metadata": {},
   "outputs": [],
   "source": [
    "# boolean true or false\n",
    "bool(0)\n"
   ]
  },
  {
   "cell_type": "code",
   "execution_count": null,
   "id": "0fc62e3e",
   "metadata": {},
   "outputs": [],
   "source": [
    "bool (-8)"
   ]
  },
  {
   "cell_type": "code",
   "execution_count": null,
   "id": "041ad5a0",
   "metadata": {},
   "outputs": [],
   "source": [
    "# expression\n",
    "# addition and subtraction\n"
   ]
  },
  {
   "cell_type": "code",
   "execution_count": null,
   "id": "a3455cf3",
   "metadata": {},
   "outputs": [],
   "source": [
    "(3 + 2+5)//3"
   ]
  },
  {
   "cell_type": "code",
   "execution_count": null,
   "id": "3b924c53",
   "metadata": {},
   "outputs": [],
   "source": [
    "print a = 2, b = 4\n",
    "\n",
    "ans = a + 2b/3"
   ]
  },
  {
   "cell_type": "code",
   "execution_count": null,
   "id": "a7121d1c",
   "metadata": {},
   "outputs": [],
   "source": [
    "a = 2\n",
    "b = 4"
   ]
  },
  {
   "cell_type": "code",
   "execution_count": null,
   "id": "b086fe4d",
   "metadata": {},
   "outputs": [],
   "source": [
    "2+2*4//3"
   ]
  },
  {
   "cell_type": "markdown",
   "id": "001db041",
   "metadata": {},
   "source": [
    "#ARRAY"
   ]
  },
  {
   "cell_type": "code",
   "execution_count": null,
   "id": "b8c1120f",
   "metadata": {},
   "outputs": [],
   "source": [
    "list\n",
    "patience =(32,\"F\", 5.8)"
   ]
  },
  {
   "cell_type": "code",
   "execution_count": null,
   "id": "912ef67e",
   "metadata": {},
   "outputs": [],
   "source": [
    "print (patience)"
   ]
  },
  {
   "cell_type": "code",
   "execution_count": null,
   "id": "826b4896",
   "metadata": {},
   "outputs": [],
   "source": [
    "list\n",
    "\n",
    "joy = (\"joy is very joyful\")\n",
    "print (joy)"
   ]
  },
  {
   "cell_type": "code",
   "execution_count": null,
   "id": "3642cca8",
   "metadata": {},
   "outputs": [],
   "source": [
    "type(patience)"
   ]
  },
  {
   "cell_type": "code",
   "execution_count": null,
   "id": "64fb02e7",
   "metadata": {},
   "outputs": [],
   "source": [
    "james = [12, \"M\", 2.3]"
   ]
  },
  {
   "cell_type": "code",
   "execution_count": null,
   "id": "7e2d9fcb",
   "metadata": {},
   "outputs": [],
   "source": [
    "print = [james, -1]"
   ]
  },
  {
   "cell_type": "markdown",
   "id": "17f2462f",
   "metadata": {},
   "source": [
    "#string"
   ]
  },
  {
   "cell_type": "code",
   "execution_count": null,
   "id": "4300efd1",
   "metadata": {},
   "outputs": [],
   "source": [
    "\"sunny Ade\" [:5]"
   ]
  },
  {
   "cell_type": "code",
   "execution_count": null,
   "id": "76fff341",
   "metadata": {},
   "outputs": [],
   "source": [
    "\"suuny Ade\"[: 8]"
   ]
  },
  {
   "cell_type": "code",
   "execution_count": null,
   "id": "3bf60ce0",
   "metadata": {},
   "outputs": [],
   "source": [
    "alaba = [10, 'Male', 2.7]"
   ]
  },
  {
   "cell_type": "code",
   "execution_count": null,
   "id": "51c8b06b",
   "metadata": {},
   "outputs": [],
   "source": [
    "print(\"my name is Alaba, I am {}years old, my height is {}m\".format(alaba[0], alaba[2]))"
   ]
  },
  {
   "cell_type": "code",
   "execution_count": null,
   "id": "58a16ec6",
   "metadata": {},
   "outputs": [],
   "source": [
    "# Another way you can write the code in the cell above\n",
    "print(f\"my name is Alaba, I am {alaba[0]}years old, my height is {alaba[2]}m\")"
   ]
  },
  {
   "cell_type": "code",
   "execution_count": null,
   "id": "acd6173f",
   "metadata": {},
   "outputs": [],
   "source": [
    "alaba[2]"
   ]
  },
  {
   "cell_type": "code",
   "execution_count": null,
   "id": "292e4238",
   "metadata": {},
   "outputs": [],
   "source": [
    "\"abcdef\"[::3] #string"
   ]
  },
  {
   "cell_type": "code",
   "execution_count": null,
   "id": "59eda62a",
   "metadata": {},
   "outputs": [],
   "source": [
    "\"a,b,c,d,e,f\"*3"
   ]
  },
  {
   "cell_type": "markdown",
   "id": "5c52277d",
   "metadata": {},
   "source": [
    "#Funtions in python\n"
   ]
  },
  {
   "cell_type": "code",
   "execution_count": null,
   "id": "b292b83a",
   "metadata": {},
   "outputs": [],
   "source": [
    "def area_rectangle(l, b):\n",
    "    area = l * b\n",
    "    return area "
   ]
  },
  {
   "cell_type": "code",
   "execution_count": null,
   "id": "3826b6fa",
   "metadata": {},
   "outputs": [],
   "source": [
    "area_rectangle(3,4)"
   ]
  },
  {
   "cell_type": "code",
   "execution_count": null,
   "id": "8324a93d",
   "metadata": {},
   "outputs": [],
   "source": [
    "area1 = area_rectangle(3,4)\n",
    "area2 = area_rectangle(7, 4)"
   ]
  },
  {
   "cell_type": "code",
   "execution_count": null,
   "id": "23c0113e",
   "metadata": {},
   "outputs": [],
   "source": [
    "len(\"Michael Jackson\")"
   ]
  },
  {
   "cell_type": "code",
   "execution_count": null,
   "id": "f7f1059f",
   "metadata": {},
   "outputs": [],
   "source": [
    "x = \"michael jackson\""
   ]
  },
  {
   "cell_type": "code",
   "execution_count": null,
   "id": "22ed4a7d",
   "metadata": {},
   "outputs": [],
   "source": [
    "print(x)"
   ]
  },
  {
   "cell_type": "code",
   "execution_count": null,
   "id": "c61f68c6",
   "metadata": {},
   "outputs": [],
   "source": [
    "x[2:6]"
   ]
  },
  {
   "cell_type": "code",
   "execution_count": null,
   "id": "d2e646be",
   "metadata": {},
   "outputs": [],
   "source": [
    "x[::2]"
   ]
  },
  {
   "cell_type": "code",
   "execution_count": null,
   "id": "02f17fd8",
   "metadata": {},
   "outputs": [],
   "source": [
    "x[1:5:2]"
   ]
  },
  {
   "cell_type": "code",
   "execution_count": null,
   "id": "16a79446",
   "metadata": {},
   "outputs": [],
   "source": [
    " x + \"is the best\""
   ]
  },
  {
   "cell_type": "code",
   "execution_count": null,
   "id": "19b7a600",
   "metadata": {},
   "outputs": [],
   "source": [
    "print(\"Michael Jackson /\\n is the best\")"
   ]
  },
  {
   "cell_type": "code",
   "execution_count": null,
   "id": "94b5041e",
   "metadata": {},
   "outputs": [],
   "source": [
    "x.lower"
   ]
  },
  {
   "cell_type": "code",
   "execution_count": null,
   "id": "fa7ec55a",
   "metadata": {},
   "outputs": [],
   "source": [
    "x .(upper)"
   ]
  },
  {
   "cell_type": "code",
   "execution_count": null,
   "id": "0abb607f",
   "metadata": {},
   "outputs": [],
   "source": [
    "x= .(upper)"
   ]
  },
  {
   "cell_type": "code",
   "execution_count": null,
   "id": "3c1df382",
   "metadata": {},
   "outputs": [],
   "source": [
    "a = \"michael jackson is the best\""
   ]
  },
  {
   "cell_type": "code",
   "execution_count": null,
   "id": "31b7ca18",
   "metadata": {},
   "outputs": [],
   "source": [
    "b =a.replace ('michael', 'joy')\n",
    "b"
   ]
  },
  {
   "cell_type": "code",
   "execution_count": null,
   "id": "d448359c",
   "metadata": {},
   "outputs": [],
   "source": [
    "a = \"Michael Jackson is the best\"\n",
    "b = a.replace('Michael', 'Janet')\n",
    "b"
   ]
  },
  {
   "cell_type": "code",
   "execution_count": null,
   "id": "10601453",
   "metadata": {},
   "outputs": [],
   "source": [
    "g = \"Mary had a little lamb Little lamb, little lamb Mary had a little lamb \\\n",
    "Its fleece was white as snow And everywhere that Mary went Mary went, Mary went \\\n",
    "Everywhere that Mary went The lamb was sure to go\""
   ]
  },
  {
   "cell_type": "code",
   "execution_count": null,
   "id": "8db71fb0",
   "metadata": {},
   "outputs": [],
   "source": [
    "print (g)"
   ]
  },
  {
   "cell_type": "code",
   "execution_count": null,
   "id": "4487de00",
   "metadata": {},
   "outputs": [],
   "source": [
    "def add(a):\n",
    "    b = 5 + 1\n",
    "    print(a, b)\n",
    "    return(b)"
   ]
  },
  {
   "cell_type": "code",
   "execution_count": null,
   "id": "3eaaae04",
   "metadata": {},
   "outputs": [],
   "source": [
    "def Mult(2, 3):\n",
    "    c = a*b\n",
    "    return (c)"
   ]
  },
  {
   "cell_type": "code",
   "execution_count": null,
   "id": "954138e4",
   "metadata": {},
   "outputs": [],
   "source": [
    "tuple1 =(\"disco\" 10, 1.2)\n",
    "t_list =list(tuple1)"
   ]
  },
  {
   "cell_type": "code",
   "execution_count": null,
   "id": "4390164a",
   "metadata": {},
   "outputs": [],
   "source": [
    "countries =[\"Nigeria\", \"Ghana\"]\n",
    "capitals = [\"FCT\" ,\"Accra\"]\n",
    "\n",
    "for item in zip(countries,capitals):\n",
    "    print(item)   "
   ]
  },
  {
   "cell_type": "markdown",
   "id": "497dd673",
   "metadata": {},
   "source": [
    "Ratings = (0,9,6,5,10,8,9,6,2)\n",
    "RatingsSorted =sorted(Ratings)\n",
    "RatingsSorted"
   ]
  },
  {
   "cell_type": "code",
   "execution_count": null,
   "id": "02f4fb9f",
   "metadata": {},
   "outputs": [],
   "source": [
    "RatingsSorted =sorted(Ratings)\n",
    "RatingsSorted"
   ]
  },
  {
   "cell_type": "code",
   "execution_count": null,
   "id": "e98d5f50",
   "metadata": {},
   "outputs": [],
   "source": [
    "tuplel = (1,2,3,4,5,6)"
   ]
  },
  {
   "cell_type": "code",
   "execution_count": null,
   "id": "3b09737a",
   "metadata": {},
   "outputs": [],
   "source": [
    "len(tuplel)"
   ]
  },
  {
   "cell_type": "code",
   "execution_count": null,
   "id": "91699ddb",
   "metadata": {},
   "outputs": [],
   "source": [
    "sample_text =\"we love #python\"\n",
    "word =\"python\"\n",
    "\n",
    "def word_count(word, text):\n",
    "    return text.count(word)\n",
    "\n",
    "word_count(word,sample_text)\n",
    "    "
   ]
  },
  {
   "cell_type": "code",
   "execution_count": 8,
   "id": "9b824708",
   "metadata": {},
   "outputs": [
    {
     "data": {
      "text/plain": [
       "2"
      ]
     },
     "execution_count": 8,
     "metadata": {},
     "output_type": "execute_result"
    }
   ],
   "source": [
    "sample_text =\"we love #python.Python.\"\n",
    "word =\"python\"\n",
    "\n",
    "\n",
    "def word_count(word, text):\n",
    "    return text.lower().count(word)\n",
    "\n",
    "word_count(word,sample_text)\n",
    "    "
   ]
  },
  {
   "cell_type": "code",
   "execution_count": 11,
   "id": "7e01b986",
   "metadata": {},
   "outputs": [
    {
     "data": {
      "text/plain": [
       "[('python', 3), ('data', 1)]"
      ]
     },
     "execution_count": 11,
     "metadata": {},
     "output_type": "execute_result"
    }
   ],
   "source": [
    "sample_text = \"we love python for data science.#python.python\"\n",
    "words =[\"python\",\"data\"]\n",
    "counter = []\n",
    "\n",
    "def word_count(word,text):\n",
    "       return text.lower().count(word)\n",
    "for word in words:\n",
    "    occurrence = word_count(word,sample_text)\n",
    "    counter.append(occurrence)\n",
    "       \n",
    "list(zip(words,counter))"
   ]
  },
  {
   "cell_type": "code",
   "execution_count": 12,
   "id": "b9e6ff5b",
   "metadata": {},
   "outputs": [
    {
     "data": {
      "text/plain": [
       "{'electronic music', 'house', 'rap'}"
      ]
     },
     "execution_count": 12,
     "metadata": {},
     "output_type": "execute_result"
    }
   ],
   "source": [
    "set(['rap','house','electronic music','rap'])"
   ]
  },
  {
   "cell_type": "code",
   "execution_count": 13,
   "id": "5a0886f4",
   "metadata": {},
   "outputs": [
    {
     "data": {
      "text/plain": [
       "{'R&B', 'disco', 'hard rock', 'pop', 'rock', 'soul'}"
      ]
     },
     "execution_count": 13,
     "metadata": {},
     "output_type": "execute_result"
    }
   ],
   "source": [
    "set1 = {'pop', 'rock', 'soul', 'hard rock', 'rock', 'R&B', 'rock', 'disco'}\n",
    "set1\n"
   ]
  },
  {
   "cell_type": "code",
   "execution_count": 14,
   "id": "c7eedf0a",
   "metadata": {},
   "outputs": [
    {
     "name": "stdout",
     "output_type": "stream",
     "text": [
      "('Michael Jackson', 'Thriller', 1982, '00:42:19', 'Pop, Rock, R&B', 46.0, 65, '30-Nov-82', None, 10.0)\n",
      "['Michael Jackson', 'Thriller', 1982, '00:42:19', 'Pop, Rock, R&B', 46.0, 65, '30-Nov-82', None, 10.0]\n",
      "{65, '00:42:19', 'Pop, Rock, R&B', 10.0, 'Michael Jackson', 'Thriller', 46.0, None, '30-Nov-82', 1982}\n"
     ]
    }
   ],
   "source": [
    "album_list =  [\"Michael Jackson\", \"Thriller\", 1982, \"00:42:19\", \\\n",
    "              \"Pop, Rock, R&B\", 46.0, 65, \"30-Nov-82\", None, 10.0]\n",
    "print(tuple(album_list))\n",
    "print(list(album_list))\n",
    "print(set(album_list))\n"
   ]
  },
  {
   "cell_type": "code",
   "execution_count": 15,
   "id": "60f14c59",
   "metadata": {},
   "outputs": [
    {
     "data": {
      "text/plain": [
       "{'R&B',\n",
       " 'disco',\n",
       " 'folk rock',\n",
       " 'hard rock',\n",
       " 'pop',\n",
       " 'progressive rock',\n",
       " 'rock',\n",
       " 'soft rock',\n",
       " 'soul'}"
      ]
     },
     "execution_count": 15,
     "metadata": {},
     "output_type": "execute_result"
    }
   ],
   "source": [
    "music_genres = set([\"pop\", \"pop\", \"rock\", \"folk rock\", \"hard rock\", \"soul\", \\\n",
    "                    \"progressive rock\", \"soft rock\", \"R&B\", \"disco\"])\n",
    "music_genres\n"
   ]
  },
  {
   "cell_type": "code",
   "execution_count": 17,
   "id": "e4072a23",
   "metadata": {},
   "outputs": [],
   "source": [
    "A = set([\"Thriller\", \"Back in Black\", \"AC/DC\"])"
   ]
  },
  {
   "cell_type": "code",
   "execution_count": 18,
   "id": "c17e3098",
   "metadata": {},
   "outputs": [
    {
     "data": {
      "text/plain": [
       "{'AC/DC', 'Back in Black', 'NSYNC', 'Thriller'}"
      ]
     },
     "execution_count": 18,
     "metadata": {},
     "output_type": "execute_result"
    }
   ],
   "source": [
    "A.add(\"NSYNC\")\n",
    "A"
   ]
  },
  {
   "cell_type": "code",
   "execution_count": 19,
   "id": "5b7076b7",
   "metadata": {},
   "outputs": [
    {
     "data": {
      "text/plain": [
       "{'AC/DC', 'Back in Black', 'Thriller'}"
      ]
     },
     "execution_count": 19,
     "metadata": {},
     "output_type": "execute_result"
    }
   ],
   "source": [
    "A.remove(\"NSYNC\")\n",
    "A"
   ]
  },
  {
   "cell_type": "code",
   "execution_count": 20,
   "id": "e16655d8",
   "metadata": {},
   "outputs": [
    {
     "data": {
      "text/plain": [
       "True"
      ]
     },
     "execution_count": 20,
     "metadata": {},
     "output_type": "execute_result"
    }
   ],
   "source": [
    "\"AC/DC\" in A"
   ]
  },
  {
   "cell_type": "code",
   "execution_count": 22,
   "id": "6759778c",
   "metadata": {},
   "outputs": [],
   "source": [
    "album_set1 = set([\"Thriller\", 'AC/DC', 'Back in Black'])\n",
    "album_set2 = set([ \"AC/DC\", \"Back in Black\", \"The Dark Side of the Moon\"])\n"
   ]
  },
  {
   "cell_type": "code",
   "execution_count": 23,
   "id": "ed8a3b75",
   "metadata": {},
   "outputs": [
    {
     "name": "stdout",
     "output_type": "stream",
     "text": [
      "{'Back in Black', 'Thriller', 'AC/DC'}\n"
     ]
    },
    {
     "data": {
      "text/plain": [
       "(None, {'AC/DC', 'Back in Black', 'The Dark Side of the Moon'})"
      ]
     },
     "execution_count": 23,
     "metadata": {},
     "output_type": "execute_result"
    }
   ],
   "source": [
    "print(album_set1),(album_set2)"
   ]
  },
  {
   "cell_type": "code",
   "execution_count": 24,
   "id": "1c789bde",
   "metadata": {},
   "outputs": [
    {
     "data": {
      "text/plain": [
       "{'AC/DC', 'Back in Black'}"
      ]
     },
     "execution_count": 24,
     "metadata": {},
     "output_type": "execute_result"
    }
   ],
   "source": [
    "intersection = album_set1 & album_set2\n",
    "intersection"
   ]
  },
  {
   "cell_type": "code",
   "execution_count": 25,
   "id": "30e21116",
   "metadata": {},
   "outputs": [
    {
     "data": {
      "text/plain": [
       "{'Thriller'}"
      ]
     },
     "execution_count": 25,
     "metadata": {},
     "output_type": "execute_result"
    }
   ],
   "source": [
    "album_set1.difference(album_set2)\n",
    "album_set1.difference(album_set2)  "
   ]
  },
  {
   "cell_type": "code",
   "execution_count": 26,
   "id": "ab414746",
   "metadata": {},
   "outputs": [
    {
     "data": {
      "text/plain": [
       "{'The Dark Side of the Moon'}"
      ]
     },
     "execution_count": 26,
     "metadata": {},
     "output_type": "execute_result"
    }
   ],
   "source": [
    "album_set2.difference(album_set1)  "
   ]
  },
  {
   "cell_type": "code",
   "execution_count": 27,
   "id": "d2b5ccf9",
   "metadata": {},
   "outputs": [
    {
     "data": {
      "text/plain": [
       "{'AC/DC', 'Back in Black'}"
      ]
     },
     "execution_count": 27,
     "metadata": {},
     "output_type": "execute_result"
    }
   ],
   "source": [
    "album_set1.intersection(album_set2)   "
   ]
  },
  {
   "cell_type": "code",
   "execution_count": 28,
   "id": "1220cbe2",
   "metadata": {},
   "outputs": [
    {
     "data": {
      "text/plain": [
       "{'AC/DC', 'Back in Black', 'The Dark Side of the Moon', 'Thriller'}"
      ]
     },
     "execution_count": 28,
     "metadata": {},
     "output_type": "execute_result"
    }
   ],
   "source": [
    "album_set1.union(album_set2)"
   ]
  },
  {
   "cell_type": "code",
   "execution_count": 29,
   "id": "d259494b",
   "metadata": {},
   "outputs": [
    {
     "data": {
      "text/plain": [
       "False"
      ]
     },
     "execution_count": 29,
     "metadata": {},
     "output_type": "execute_result"
    }
   ],
   "source": [
    "set(album_set1).issuperset(album_set2)   "
   ]
  },
  {
   "cell_type": "code",
   "execution_count": 30,
   "id": "04712be1",
   "metadata": {},
   "outputs": [
    {
     "data": {
      "text/plain": [
       "False"
      ]
     },
     "execution_count": 30,
     "metadata": {},
     "output_type": "execute_result"
    }
   ],
   "source": [
    "set(album_set2).issubset(album_set1)\n",
    " "
   ]
  },
  {
   "cell_type": "code",
   "execution_count": 31,
   "id": "0e8d8eb1",
   "metadata": {},
   "outputs": [
    {
     "data": {
      "text/plain": [
       "True"
      ]
     },
     "execution_count": 31,
     "metadata": {},
     "output_type": "execute_result"
    }
   ],
   "source": [
    "set({\"Back in Black\", \"AC/DC\"}).issubset(album_set1) "
   ]
  },
  {
   "cell_type": "code",
   "execution_count": 32,
   "id": "007378ba",
   "metadata": {},
   "outputs": [
    {
     "data": {
      "text/plain": [
       "True"
      ]
     },
     "execution_count": 32,
     "metadata": {},
     "output_type": "execute_result"
    }
   ],
   "source": [
    "album_set1.issuperset({\"Back in Black\", \"AC/DC\"})   "
   ]
  },
  {
   "cell_type": "code",
   "execution_count": 33,
   "id": "73c96083",
   "metadata": {},
   "outputs": [
    {
     "data": {
      "text/plain": [
       "{'electronic music', 'house', 'rap'}"
      ]
     },
     "execution_count": 33,
     "metadata": {},
     "output_type": "execute_result"
    }
   ],
   "source": [
    "set(['rap','house','electronic music','rap'])"
   ]
  },
  {
   "cell_type": "code",
   "execution_count": 34,
   "id": "e9331b33",
   "metadata": {},
   "outputs": [
    {
     "name": "stdout",
     "output_type": "stream",
     "text": [
      "the sum of A is: 6\n",
      "the sum of B is: 3\n"
     ]
    }
   ],
   "source": [
    "A = [1, 2, 2, 1]  \n",
    "B = set([1, 2, 2, 1])\n",
    "print(\"the sum of A is:\", sum(A))\n",
    "print(\"the sum of B is:\", sum(B))"
   ]
  },
  {
   "cell_type": "code",
   "execution_count": 35,
   "id": "425428dd",
   "metadata": {},
   "outputs": [
    {
     "data": {
      "text/plain": [
       "{'AC/DC', 'Back in Black', 'The Dark Side of the Moon', 'Thriller'}"
      ]
     },
     "execution_count": 35,
     "metadata": {},
     "output_type": "execute_result"
    }
   ],
   "source": [
    "album_set3 = album_set1.union(album_set2)\n",
    "album_set3"
   ]
  },
  {
   "cell_type": "code",
   "execution_count": 36,
   "id": "981f8a71",
   "metadata": {},
   "outputs": [
    {
     "data": {
      "text/plain": [
       "True"
      ]
     },
     "execution_count": 36,
     "metadata": {},
     "output_type": "execute_result"
    }
   ],
   "source": [
    "album_set1.issubset(album_set3)"
   ]
  }
 ],
 "metadata": {
  "kernelspec": {
   "display_name": "Python 3 (ipykernel)",
   "language": "python",
   "name": "python3"
  },
  "language_info": {
   "codemirror_mode": {
    "name": "ipython",
    "version": 3
   },
   "file_extension": ".py",
   "mimetype": "text/x-python",
   "name": "python",
   "nbconvert_exporter": "python",
   "pygments_lexer": "ipython3",
   "version": "3.11.5"
  }
 },
 "nbformat": 4,
 "nbformat_minor": 5
}
